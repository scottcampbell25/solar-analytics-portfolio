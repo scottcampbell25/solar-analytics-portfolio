{
  "cells": [
    {
      "cell_type": "markdown",
      "metadata": {},
      "source": [
        "# Solar Analytics - Data Exploration\n",
        "\n",
        "This notebook explores the data collected from NREL, OpenWeather, and Tomorrow.io APIs."
      ]
    },
    {
      "cell_type": "code",
      "execution_count": null,
      "metadata": {},
      "source": [
        "import pandas as pd\n",
        "import numpy as np\n",
        "import matplotlib.pyplot as plt\n",
        "import seaborn as sns\n",
        "from sqlalchemy import create_engine\n",
        "from dotenv import load_dotenv\n",
        "import os\n",
        "\n",
        "# Load environment variables\n",
        "load_dotenv()\n",
        "\n",
        "# Create database connection\n",
        "db_url = f\"postgresql://{os.getenv('DB_USER')}:{os.getenv('DB_PASSWORD')}@{os.getenv('DB_HOST')}/solar_analytics\"\n",
        "engine = create_engine(db_url)\n",
        "\n",
        "print(\"\u2705 Connected to database\")"
      ]
    },
    {
      "cell_type": "markdown",
      "metadata": {},
      "source": [
        "## 1. Load Data from Database"
      ]
    },
    {
      "cell_type": "code",
      "execution_count": null,
      "metadata": {},
      "source": [
        "# Load NREL solar data\n",
        "nrel_query = \"\"\"\n",
        "SELECT * FROM api_ingest.nrel_pvdaq \n",
        "WHERE timestamp IS NOT NULL\n",
        "ORDER BY timestamp\n",
        "\"\"\"\n",
        "df_nrel = pd.read_sql(nrel_query, engine)\n",
        "print(f\"NREL data: {len(df_nrel)} records\")\n",
        "\n",
        "# Load weather data\n",
        "weather_query = \"SELECT * FROM api_ingest.weather_test ORDER BY timestamp\"\n",
        "df_weather = pd.read_sql(weather_query, engine)\n",
        "print(f\"Weather data: {len(df_weather)} records\")\n",
        "\n",
        "# Load Tomorrow.io forecasts\n",
        "tomorrow_query = \"SELECT * FROM api_ingest.tomorrow_weather ORDER BY valid_time\"\n",
        "df_tomorrow = pd.read_sql(tomorrow_query, engine)\n",
        "print(f\"Tomorrow.io data: {len(df_tomorrow)} records\")"
      ]
    },
    {
      "cell_type": "markdown",
      "metadata": {},
      "source": [
        "## 2. NREL Solar Resource Analysis"
      ]
    },
    {
      "cell_type": "code",
      "execution_count": null,
      "metadata": {},
      "source": [
        "# Separate monthly and hourly data\n",
        "df_monthly = df_nrel[df_nrel['site_id'] == 'NREL_MONTHLY'].copy()\n",
        "df_hourly = df_nrel[df_nrel['site_id'] == 'PVWATTS_SIM'].copy()\n",
        "\n",
        "# Plot monthly solar irradiance\n",
        "if len(df_monthly) > 0:\n",
        "    fig, (ax1, ax2) = plt.subplots(1, 2, figsize=(12, 5))\n",
        "    \n",
        "    # GHI by month\n",
        "    df_monthly['month'] = pd.to_datetime(df_monthly['timestamp']).dt.month_name()\n",
        "    ax1.bar(range(len(df_monthly)), df_monthly['ghi'])\n",
        "    ax1.set_xticks(range(len(df_monthly)))\n",
        "    ax1.set_xticklabels(df_monthly['month'], rotation=45)\n",
        "    ax1.set_ylabel('GHI (kWh/m\u00b2/day)')\n",
        "    ax1.set_title('Monthly Average Global Horizontal Irradiance')\n",
        "    \n",
        "    # DNI by month\n",
        "    ax2.bar(range(len(df_monthly)), df_monthly['dni'], color='orange')\n",
        "    ax2.set_xticks(range(len(df_monthly)))\n",
        "    ax2.set_xticklabels(df_monthly['month'], rotation=45)\n",
        "    ax2.set_ylabel('DNI (kWh/m\u00b2/day)')\n",
        "    ax2.set_title('Monthly Average Direct Normal Irradiance')\n",
        "    \n",
        "    plt.tight_layout()\n",
        "    plt.show()"
      ]
    },
    {
      "cell_type": "markdown",
      "metadata": {},
      "source": [
        "## 3. PV System Output Analysis"
      ]
    },
    {
      "cell_type": "code",
      "execution_count": null,
      "metadata": {},
      "source": [
        "# Analyze hourly PV output\n",
        "if len(df_hourly) > 0:\n",
        "    df_hourly['hour'] = pd.to_datetime(df_hourly['timestamp']).dt.hour\n",
        "    \n",
        "    fig, (ax1, ax2) = plt.subplots(2, 1, figsize=(10, 8))\n",
        "    \n",
        "    # AC power output by hour\n",
        "    ax1.plot(df_hourly['hour'], df_hourly['ac_power'], 'b-', linewidth=2)\n",
        "    ax1.set_xlabel('Hour of Day')\n",
        "    ax1.set_ylabel('AC Power (W)')\n",
        "    ax1.set_title('Simulated PV System Output (4kW System)')\n",
        "    ax1.grid(True, alpha=0.3)\n",
        "    \n",
        "    # POA irradiance vs AC power\n",
        "    ax2.scatter(df_hourly['poa_irradiance'], df_hourly['ac_power'], alpha=0.6)\n",
        "    ax2.set_xlabel('Plane of Array Irradiance (W/m\u00b2)')\n",
        "    ax2.set_ylabel('AC Power (W)')\n",
        "    ax2.set_title('Power Output vs Irradiance')\n",
        "    ax2.grid(True, alpha=0.3)\n",
        "    \n",
        "    plt.tight_layout()\n",
        "    plt.show()\n",
        "    \n",
        "    # Calculate capacity factor\n",
        "    system_capacity = 4000  # 4kW system\n",
        "    avg_output = df_hourly['ac_power'].mean()\n",
        "    capacity_factor = avg_output / system_capacity\n",
        "    print(f\"\\nAverage capacity factor: {capacity_factor:.1%}\")"
      ]
    },
    {
      "cell_type": "markdown",
      "metadata": {},
      "source": [
        "## 4. Weather Forecast Analysis"
      ]
    },
    {
      "cell_type": "code",
      "execution_count": null,
      "metadata": {},
      "source": [
        "# Analyze Tomorrow.io solar forecasts\n",
        "if len(df_tomorrow) > 0:\n",
        "    df_tomorrow['hour'] = pd.to_datetime(df_tomorrow['valid_time']).dt.hour\n",
        "    df_tomorrow['forecast_age'] = (pd.to_datetime(df_tomorrow['valid_time']) - \n",
        "                                  pd.to_datetime(df_tomorrow['forecast_time'])).dt.total_seconds() / 3600\n",
        "    \n",
        "    # Plot solar GHI forecast\n",
        "    plt.figure(figsize=(12, 6))\n",
        "    plt.plot(df_tomorrow['valid_time'], df_tomorrow['solar_ghi'], 'g-', linewidth=2)\n",
        "    plt.xlabel('Time')\n",
        "    plt.ylabel('Solar GHI (W/m\u00b2)')\n",
        "    plt.title('48-Hour Solar Irradiance Forecast')\n",
        "    plt.xticks(rotation=45)\n",
        "    plt.grid(True, alpha=0.3)\n",
        "    plt.tight_layout()\n",
        "    plt.show()\n",
        "    \n",
        "    # Temperature and cloud cover\n",
        "    fig, (ax1, ax2) = plt.subplots(2, 1, figsize=(12, 8), sharex=True)\n",
        "    \n",
        "    ax1.plot(df_tomorrow['valid_time'], df_tomorrow['temperature'], 'r-', linewidth=2)\n",
        "    ax1.set_ylabel('Temperature (\u00b0C)')\n",
        "    ax1.set_title('Temperature Forecast')\n",
        "    ax1.grid(True, alpha=0.3)\n",
        "    \n",
        "    ax2.fill_between(df_tomorrow['valid_time'], 0, df_tomorrow['cloud_cover'], alpha=0.5)\n",
        "    ax2.set_ylabel('Cloud Cover (%)')\n",
        "    ax2.set_xlabel('Time')\n",
        "    ax2.set_title('Cloud Cover Forecast')\n",
        "    ax2.grid(True, alpha=0.3)\n",
        "    \n",
        "    plt.xticks(rotation=45)\n",
        "    plt.tight_layout()\n",
        "    plt.show()"
      ]
    }
  ],
  "metadata": {
    "kernelspec": {
      "display_name": "Python 3",
      "language": "python",
      "name": "python3"
    },
    "language_info": {
      "name": "python",
      "version": "3.11.0"
    }
  },
  "nbformat": 4,
  "nbformat_minor": 5
}