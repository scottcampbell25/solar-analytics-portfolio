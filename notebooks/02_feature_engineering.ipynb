{
  "cells": [
    {
      "cell_type": "markdown",
      "metadata": {},
      "source": [
        "# Solar Analytics - Feature Engineering\n",
        "\n",
        "This notebook creates features for solar power forecasting models."
      ]
    },
    {
      "cell_type": "code",
      "execution_count": null,
      "metadata": {},
      "source": [
        "import pandas as pd\n",
        "import numpy as np\n",
        "from sqlalchemy import create_engine, text\n",
        "from dotenv import load_dotenv\n",
        "import os\n",
        "\n",
        "load_dotenv()\n",
        "\n",
        "# Database connection\n",
        "db_url = f\"postgresql://{os.getenv('DB_USER')}:{os.getenv('DB_PASSWORD')}@{os.getenv('DB_HOST')}/solar_analytics\"\n",
        "engine = create_engine(db_url)"
      ]
    },
    {
      "cell_type": "markdown",
      "metadata": {},
      "source": [
        "## 1. Create Time-based Features"
      ]
    },
    {
      "cell_type": "code",
      "execution_count": null,
      "metadata": {},
      "source": [
        "def create_time_features(df, timestamp_col='timestamp'):\n",
        "    \"\"\"Create time-based features from timestamp\"\"\"\n",
        "    df = df.copy()\n",
        "    \n",
        "    # Convert to datetime\n",
        "    df[timestamp_col] = pd.to_datetime(df[timestamp_col])\n",
        "    \n",
        "    # Extract time features\n",
        "    df['hour'] = df[timestamp_col].dt.hour\n",
        "    df['day_of_year'] = df[timestamp_col].dt.dayofyear\n",
        "    df['month'] = df[timestamp_col].dt.month\n",
        "    df['day_of_week'] = df[timestamp_col].dt.dayofweek\n",
        "    \n",
        "    # Solar position features\n",
        "    df['hour_sin'] = np.sin(2 * np.pi * df['hour'] / 24)\n",
        "    df['hour_cos'] = np.cos(2 * np.pi * df['hour'] / 24)\n",
        "    df['day_sin'] = np.sin(2 * np.pi * df['day_of_year'] / 365)\n",
        "    df['day_cos'] = np.cos(2 * np.pi * df['day_of_year'] / 365)\n",
        "    \n",
        "    return df\n",
        "\n",
        "# Test with sample data\n",
        "sample_df = pd.DataFrame({\n",
        "    'timestamp': pd.date_range('2024-01-01', periods=48, freq='H')\n",
        "})\n",
        "\n",
        "sample_with_features = create_time_features(sample_df)\n",
        "print(\"Time features created:\")\n",
        "print(sample_with_features.head())"
      ]
    },
    {
      "cell_type": "markdown",
      "metadata": {},
      "source": [
        "## 2. Create Solar Features"
      ]
    },
    {
      "cell_type": "code",
      "execution_count": null,
      "metadata": {},
      "source": [
        "def create_solar_features(df):\n",
        "    \"\"\"Create solar-specific features\"\"\"\n",
        "    df = df.copy()\n",
        "    \n",
        "    # Clear sky index (if GHI available)\n",
        "    if 'ghi' in df.columns and 'solar_ghi' in df.columns:\n",
        "        df['clear_sky_index'] = df['ghi'] / (df['solar_ghi'] + 0.1)  # Avoid division by zero\n",
        "    \n",
        "    # Performance ratio\n",
        "    if 'ac_power' in df.columns and 'poa_irradiance' in df.columns:\n",
        "        system_capacity = 4000  # 4kW system\n",
        "        df['performance_ratio'] = df['ac_power'] / (df['poa_irradiance'] * system_capacity / 1000)\n",
        "    \n",
        "    # Lagged features\n",
        "    for lag in [1, 2, 3, 6, 12, 24]:\n",
        "        if 'ac_power' in df.columns:\n",
        "            df[f'power_lag_{lag}h'] = df['ac_power'].shift(lag)\n",
        "        if 'temperature' in df.columns:\n",
        "            df[f'temp_lag_{lag}h'] = df['temperature'].shift(lag)\n",
        "    \n",
        "    # Rolling averages\n",
        "    for window in [3, 6, 12, 24]:\n",
        "        if 'ac_power' in df.columns:\n",
        "            df[f'power_ma_{window}h'] = df['ac_power'].rolling(window).mean()\n",
        "    \n",
        "    return df\n",
        "\n",
        "print(\"Solar feature functions created\")"
      ]
    },
    {
      "cell_type": "markdown",
      "metadata": {},
      "source": [
        "## 3. Create Feature Pipeline"
      ]
    },
    {
      "cell_type": "code",
      "execution_count": null,
      "metadata": {},
      "source": [
        "def create_feature_table():\n",
        "    \"\"\"Create feature table in mart schema\"\"\"\n",
        "    \n",
        "    # Load data\n",
        "    query = \"\"\"\n",
        "    SELECT \n",
        "        timestamp,\n",
        "        site_id,\n",
        "        ac_power,\n",
        "        dc_power,\n",
        "        poa_irradiance,\n",
        "        ambient_temp\n",
        "    FROM api_ingest.nrel_pvdaq\n",
        "    WHERE site_id = 'PVWATTS_SIM'\n",
        "    ORDER BY timestamp\n",
        "    \"\"\"\n",
        "    \n",
        "    df = pd.read_sql(query, engine)\n",
        "    \n",
        "    if len(df) > 0:\n",
        "        # Add time features\n",
        "        df = create_time_features(df)\n",
        "        \n",
        "        # Add solar features\n",
        "        df = create_solar_features(df)\n",
        "        \n",
        "        # Save to mart schema\n",
        "        df.to_sql('solar_features', engine, schema='mart', \n",
        "                 if_exists='replace', index=False)\n",
        "        \n",
        "        print(f\"\u2705 Created feature table with {len(df)} records\")\n",
        "        print(f\"Features: {list(df.columns)}\")\n",
        "        \n",
        "        return df\n",
        "    else:\n",
        "        print(\"No data available for feature engineering\")\n",
        "        return None\n",
        "\n",
        "# Run feature pipeline\n",
        "feature_df = create_feature_table()"
      ]
    }
  ],
  "metadata": {
    "kernelspec": {
      "display_name": "Python 3",
      "language": "python",
      "name": "python3"
    },
    "language_info": {
      "name": "python",
      "version": "3.11.0"
    }
  },
  "nbformat": 4,
  "nbformat_minor": 5
}